{
 "cells": [
  {
   "cell_type": "code",
   "execution_count": 11,
   "metadata": {},
   "outputs": [
    {
     "name": "stdout",
     "output_type": "stream",
     "text": [
      "Requirement already satisfied: openpyxl in /home/hhanley/.local/lib/python3.8/site-packages (3.0.7)\r\n",
      "Requirement already satisfied: et-xmlfile in /home/hhanley/.local/lib/python3.8/site-packages (from openpyxl) (1.1.0)\r\n"
     ]
    }
   ],
   "source": [
    "import pandas as pd\n",
    "!pip3 install openpyxl\n",
    "from os import listdir\n",
    "from os.path import isfile, join\n",
    "import glob\n",
    "import os"
   ]
  },
  {
   "cell_type": "code",
   "execution_count": 12,
   "metadata": {},
   "outputs": [],
   "source": [
    "def CountFrequency(my_list):\n",
    "    # Creating an empty dictionary \n",
    "    freq = {}\n",
    "    for item in my_list:\n",
    "        if (item in freq):\n",
    "            freq[item] += 1\n",
    "        else:\n",
    "            freq[item] = 1\n",
    "    return freq"
   ]
  },
  {
   "cell_type": "code",
   "execution_count": 13,
   "metadata": {},
   "outputs": [],
   "source": [
    "import glob\n",
    "ROOT_DIR = 'data/Spring 2021-20210725T213735Z-001/Spring 2021/'\n",
    "CURRENT_QUARTER = ''\n",
    "# root_dir needs a trailing slash (i.e. /root/dir/)\n",
    "files = []\n",
    "for filename in glob.iglob(ROOT_DIR + '**/*.xlsx', recursive=True):\n",
    "     files.append(filename)"
   ]
  },
  {
   "cell_type": "code",
   "execution_count": 14,
   "metadata": {},
   "outputs": [],
   "source": [
    "grad_major_types = {\n",
    "    'Undeclared': 'Undeclared',\n",
    "\t'Aeronautics and Astronautics' : 'Engineering',\n",
    "\t'Civil and Environmental Engineering' : 'Engineering',\n",
    "\t'Electrical Engineering': 'Engineering',\n",
    "\t'Mechanical Engineering': 'Engineering',\n",
    "\t'Bioengineering' : 'Engineering',\n",
    "\t'Chemical Engineering': 'Engineering',\n",
    "\t'Computational and Mathematical Engineering': 'Engineering',\n",
    "\t'Computer Science' : 'Engineering',\n",
    "\t'Design Impact': 'Engineering',\n",
    "\t'Management Science and Engineering': 'Engineering',\n",
    "\t'Other Engineering': 'Engineering',\n",
    "\t'Anthropology': 'Humanities and Sciences',\n",
    "\t'Classics': 'Humanities and Sciences',\n",
    "\t'Communication': 'Humanities and Sciences',\n",
    "\t'Economics':'Humanities and Sciences',\n",
    "\t'History': 'Humanities and Sciences',\n",
    "\t'International Policy':'Humanities and Sciences',\n",
    "\t'Linguistics':'Humanities and Sciences',\n",
    "\t'Philosophy': 'Humanities and Sciences',\n",
    "\t'Political Science':'Humanities and Sciences',\n",
    "\t'Psychology':'Humanities and Sciences',\n",
    "\t'Public Policy':'Humanities and Sciences',\n",
    "\t'Religious Studies':'Humanities and Sciences',\n",
    "\t'Sociology':'Humanities and Sciences',\n",
    "\t'English':'Humanities and Sciences',\n",
    "\t'Modern Thought and Literature':'Humanities and Sciences',\n",
    "\t'Comparative Literature':'Humanities and Sciences',\n",
    "\t'Art History':'Humanities and Sciences',\n",
    "\t'Art Practice':'Humanities and Sciences',\n",
    "\t'Documentary Film and Video':'Humanities and Sciences',\n",
    "\t'Theater and Performance Studies':'Humanities and Sciences',\n",
    "\t'Master of Liberal Arts':'Humanities and Sciences',\n",
    "\t'Music':'Humanities and Sciences',\n",
    "\t'Mathematics':'Humanities and Sciences',\n",
    "\t'Statistics':'Humanities and Sciences',\n",
    "\t'Symbolic Systems':'Humanities and Sciences',\n",
    "\t'East Asian Languages and Cultures':'Humanities and Sciences',\n",
    "\t'East Asian Studies':'Humanities and Sciences',\n",
    "\t'French and Italian':'Humanities and Sciences',\n",
    "\t'French':'Humanities and Sciences',\n",
    "\t'German Studies':'Humanities and Sciences',\n",
    "\t'Iberian and Latin American Cultures':'Humanities and Sciences',\n",
    "\t'Italian':'Humanities and Sciences',\n",
    "\t'Latin American Studies':'Humanities and Sciences',\n",
    "\t'Russian, East European, and Eurasian Studies':'Humanities and Sciences',\n",
    "\t'Slavic Languages and Literature':'Humanities and Sciences',\n",
    "\t'Applied Physics':'Humanities and Sciences',\n",
    "\t'Chemistry':'Humanities and Sciences',\n",
    "\t'Biology':'Humanities and Sciences',\n",
    "\t'Biophysics':'Humanities and Sciences',\n",
    "\t'Physics':'Humanities and Sciences',\n",
    "\t'Other Humanities':'Humanities and Sciences',\n",
    "\t'Other Sciences':'Humanities and Sciences',\n",
    "\t'MD':'Medicine',\n",
    "\t'Biochemistry':'Medicine',\n",
    "\t'Biomedical Informatics':'Medicine',\n",
    "\t'Cancer Biology':'Medicine',\n",
    "\t'Chemical and Systems Biology':'Medicine',\n",
    "\t'Developmental Biology':'Medicine',\n",
    "\t'Genetics':'Medicine',\n",
    "\t'Immunology':'Medicine',\n",
    "\t'Microbiology and Immunology':'Medicine',\n",
    "\t'Molecular and Cellular Physiology':'Medicine',\n",
    "\t'Neurosciences':'Medicine',\n",
    "\t'Stem Cell Biology and Regenerative Medicine':'Medicine',\n",
    "\t'Structural Biology':'Medicine',\n",
    "\t'Clinical Informatics Management':'Medicine',\n",
    "\t'Epidemiology and Clinical Research':'Medicine',\n",
    "\t'Health Policy':'Medicine',\n",
    "\t'Human Genetics and Genetic Counseling':'Medicine',\n",
    "\t'Community Health and Prevention Research':'Medicine',\n",
    "\t'Healthy Policy':'Medicine',\n",
    "\t'Laboratory Animal Sciences':'Medicine',\n",
    "\t'Physician Assistant Studies':'Medicine',\n",
    "\t'Laboratory Animal Sciences':'Medicine',\n",
    "\t'Physician Assistant Studie':'Medicine',\n",
    "\t'Other Medicine Biosciences':'Medicine',\n",
    "\t'Earth System Science':'Earth, Energy, and Environmental Sciences',\n",
    "\t'Emmett Interdisciplinary Program in Environment and Resources':'Earth, Energy, and Environmental Sciences',\n",
    "\t'Energy Resources Engineering':'Earth, Energy, and Environmental Sciences',\n",
    "\t'Geological Sciences':'Earth, Energy, and Environmental Sciences',\n",
    "\t'Geophysics':'Earth, Energy, and Environmental Sciences',\n",
    "\t'Other SE3': 'Earth, Energy, and Environmental Sciences',\n",
    "\t'Law':'Law',\n",
    "\t'Business':'Business',\n",
    "\t'Curriculum Studies and Teacher Education (CTE)':'Education',\n",
    "\t'Developmental and Psychological Sciences (DAPS)':'Education',\n",
    "\t'International Comparative Education/ International Education Policy Analysis (ICE/IEPA)':'Education',\n",
    "\t'Learning Design and Technology (LDT)':'Education',\n",
    "\t'Policy Organization and Leadership Studies (POLS)':'Education',\n",
    "\t'Stanford Teacher Education Program (STEP)':'Education',\n",
    "\t'Other Education':'Education',\n",
    "\t'Social Sciences, Humanities and Interdisciplinary Policy Studies in Education (SHIPS)':'Education',\n",
    "}"
   ]
  },
  {
   "cell_type": "code",
   "execution_count": 15,
   "metadata": {},
   "outputs": [],
   "source": [
    "major_types = {\n",
    "\t'Undeclared': 0,\n",
    "\t'Aeronautics and Astronautics': 1,\n",
    "\t'African and African American Studies': 3, \n",
    "\t'African Studies': 3, \n",
    "\t'American Studies': 3, \n",
    "\t'Anthropology': 3, \n",
    "\t'Applied and Engineering Physics' :1 , \n",
    "\t'Archaeology': 3, \n",
    "\t'Architectural Design': 3, \n",
    "\t'Art History': 4, \n",
    "\t'Art Practice': 4, \n",
    "\t'Asian American Studies': 3, \n",
    "\t'Atmosphere/Energy': 1, \n",
    "\t'Bioengineering': 1,\n",
    "\t'Biology': 2,\n",
    "\t'Biomechanical Engineering': 1,\n",
    "\t'Biomedical Computation': 2, \n",
    "\t'Chemical Engineering': 1,\n",
    "\t'Chemistry': 2, \n",
    "\t'Chicana/o - Latina/o Studies': 3, \n",
    "\t'Civil and Environmental Engineering': 1,\n",
    "\t'Classics': 4, \n",
    "\t'Communication': 4, \n",
    "\t'Community Health and Prevention Research': 2, \n",
    "\t'Comparative Literature': 4, \n",
    "\t'Comparative Studies in Race and Ethnicity': 4, \n",
    "\t'Computer Science' : 1,\n",
    "\t'Democracy, Development, and the Rule of Law': 3, \n",
    "\t'Earth Systems': 2, \n",
    "\t'East Asian Studies': 3,\n",
    "\t'Economics': 3, \n",
    "\t'Education': 3, \n",
    "\t'Electrical Engineering' : 1,\n",
    "\t'Energy Resources Engineering': 1,\n",
    "\t'Engineering Physics' : 1, \n",
    "\t'English': 4, \n",
    "\t'Environmental Systems Engineering': 1,\n",
    "\t'Ethics in Society': 3, \n",
    "\t'Feminist, Gender, and Sexuality Studies': 3,\n",
    "\t'Film and Media Studies': 4, \n",
    "\t'French': 4, \n",
    "\t'Geological Studies': 2, \n",
    "\t'Geophysics': 2, \n",
    "\t'German Studies': 3,\n",
    "\t'History': 3, \n",
    "\t'Honors in the Arts': 4,\n",
    "\t'Human Biology': 2, \n",
    "\t'Iberian and Latin American Cultures': 3, \n",
    "\t'International Policy Studies': 3, \n",
    "\t'International Relations': 3, \n",
    "\t'International Security Studies': 3, \n",
    "\t'Italian': 4, \n",
    "\t'Jewish Studies': 3, \n",
    "\t'Laboratory Animal Science': 2, \n",
    "\t'Latin American Studies': 3, \n",
    "\t'Linguistics': 4, \n",
    "\t'Management Science and Engineering' : 1,\n",
    "\t'Materials Science and Engineering': 1,\n",
    "\t'Mathematical and Computational Science': 1,\n",
    "\t'Mathematics': 2, \n",
    "\t'Mechanical Engineering': 1,\n",
    "\t'Modern Thought and Literature': 4,\n",
    "\t'Music': 4, \n",
    "\t'Music, Science, and Technology': 2, \n",
    "\t'Native American Studies': 3, \n",
    "\t'Philosophy': 4, \n",
    "\t'Philosophy and Religious Studies': 4,\n",
    "\t'Physics': 2, \n",
    "\t'Political Science': 3, \n",
    "\t'Product Design': 1,\n",
    "\t'Psychology': 2, \n",
    "\t'Public Policy': 3, \n",
    "\t'Religious Studies': 3, \n",
    "\t'Science, Technology, and Society': 2, \n",
    "\t'Slavic Languages and Literatures': 4, \n",
    "\t'Sociology': 3, \n",
    "\t'Spanish': 4, \n",
    "\t'Statistics' : 2, \n",
    "\t'Symbolic Systems': 1, \n",
    "\t'Theater and Performance Studies': 4, \n",
    "\t'Urban Studies': 3\n",
    "}"
   ]
  },
  {
   "cell_type": "code",
   "execution_count": 16,
   "metadata": {},
   "outputs": [],
   "source": [
    "for major in major_types:\n",
    "    if major_types[major] == 0:\n",
    "        major_types[major] = 'Undeclared'\n",
    "    elif major_types[major] == 1:\n",
    "        major_types[major] = 'Engineering'\n",
    "    elif major_types[major] == 2:\n",
    "        major_types[major] = 'Math/Science'\n",
    "    elif major_types[major] == 3:\n",
    "        major_types[major] = 'Social Science'\n",
    "    elif major_types[major] ==  4:\n",
    "        major_types[major] = 'Humanities'"
   ]
  },
  {
   "cell_type": "code",
   "execution_count": 17,
   "metadata": {},
   "outputs": [],
   "source": [
    "#Get the number of events per type of event\n",
    "DATA_HOME = 'processed_data/'\n",
    "DATE_TYPE = ''\n",
    "event_type_to_num = dict()\n",
    "for file in files:\n",
    "    event_type = file.split('/')[3]\n",
    "    if file.split('/')[3] not in event_type_to_num:\n",
    "        event_type_to_num[file.split('/')[3]] = 0\n",
    "    event_type_to_num[file.split('/')[3]] +=1\n",
    "    DATE_TYPE = file.split('/')[2]\n",
    "df = pd.DataFrame({\n",
    "               'Event_Types': list(event_type_to_num.keys()),\n",
    "                'Event_Types_Numbers':  list(event_type_to_num.values())})\n",
    "df.to_csv(DATA_HOME+DATE_TYPE+'event-stats.csv',index=False)"
   ]
  },
  {
   "cell_type": "code",
   "execution_count": 18,
   "metadata": {},
   "outputs": [],
   "source": [
    "def isNaN(num):\n",
    "    return num != num"
   ]
  },
  {
   "cell_type": "code",
   "execution_count": 19,
   "metadata": {},
   "outputs": [],
   "source": [
    "## for each also get the number to unique visits, number of students, and the sunetids\n",
    "def sjoin(x): return ';'.join(x[x.notnull()].astype(str))"
   ]
  },
  {
   "cell_type": "code",
   "execution_count": 20,
   "metadata": {},
   "outputs": [],
   "source": [
    "def create_data(file_name ='Chem 31B Study Hall'):\n",
    "    ## Get all chmistry data for the given quarte\n",
    "    chemistry_info = dict()\n",
    "    sunet_info_chem = dict()\n",
    "    sunet_info_chem['Years'] = dict()\n",
    "    sunet_info_chem['Majors'] = dict()\n",
    "    sunet_to_years = dict()\n",
    "    print(file_name)\n",
    "    num_files = 0\n",
    "    all_sunetids = set()\n",
    "    num_visits = 0\n",
    "    for file in files:\n",
    "        if file.split('/')[3] == file_name:\n",
    "            print(file)\n",
    "            num_files+=1\n",
    "            testfile_data = pd.read_excel(file) \n",
    "            try: \n",
    "                testfile_data = testfile_data.groupby(level=0, axis=1).apply(lambda x: x.apply(sjoin, axis=1))\n",
    "            except:\n",
    "                testfile_data = pd.read_excel(file)\n",
    "            try:\n",
    "                #testfile_data = pd.read_excel('Fall Quarter 2020-20210425T224712Z-001/Fall Quarter 2020/Chem Virtual Study Halls/'+file)\n",
    "                session_values = dict()\n",
    "\n",
    "                ## THe things that we want from this are the major frequencies \n",
    "                ## the sunetids, and years \n",
    "                majors = list(testfile_data['Undergraduate Major'])\n",
    "                sunetids = list(testfile_data['SUID Number'])\n",
    "                years = list(testfile_data['Year at Stanford'])\n",
    "                ## Create a dictionary of sunetids to majors\n",
    "                ids_to_info = dict()\n",
    "                ids_to_info['Majors'] =dict()\n",
    "                ids_to_info['Years'] = dict()\n",
    "\n",
    "                ### Make sure that sunetids are the last 8 digits \n",
    "                for index in range(len(sunetids)):\n",
    "                    actual_sunetid = str(sunetids[index])[-7:]\n",
    "                    if str(actual_sunetid).isnumeric():\n",
    "                        all_sunetids.add(actual_sunetid)\n",
    "                        num_visits+=1\n",
    "                        if not isNaN(majors[index]) and majors[index] is not None and majors[index] != '':\n",
    "                            ids_to_info['Majors'][actual_sunetid] = majors[index]\n",
    "                            \n",
    "                        else:\n",
    "                            ids_to_info['Majors'][actual_sunetid] = 'Undeclared'\n",
    "                        if str(years[index]) == '5' or str(years[index]) == '5+':\n",
    "                            ids_to_info['Years'][actual_sunetid] = '5+' \n",
    "                        else:\n",
    "                            ids_to_info['Years'][actual_sunetid] = str(int(float(years[index]))).strip()\n",
    "                sunet_info_chem['Majors'].update(ids_to_info['Majors'])\n",
    "                sunet_info_chem['Years'].update(ids_to_info['Years'])\n",
    "                ## Get the unique istances of the majors\n",
    "                uq_majors = []\n",
    "                uq_years = []\n",
    "                for id_ in ids_to_info['Majors'].keys() :\n",
    "                    uq_majors.append(ids_to_info['Majors'][id_])\n",
    "                    uq_years.append(ids_to_info['Years'][id_])\n",
    "\n",
    "\n",
    "\n",
    "                ## get the value of each of the majors \n",
    "                session_values['Majors'] = dict()\n",
    "                major_frequencies = CountFrequency(uq_majors)\n",
    "                for major in major_frequencies:\n",
    "                    session_values['Majors'][major] = major_frequencies[major]\n",
    "\n",
    "\n",
    "                ## get the value of each of the majors \n",
    "                session_values['Years'] = dict()\n",
    "                year_frequencies = CountFrequency(uq_years)\n",
    "                for year in year_frequencies:\n",
    "                    session_values['Years'][year] = year_frequencies[year]\n",
    "                session_values['meta'] = ids_to_info\n",
    "                chemistry_info[file] = session_values\n",
    "\n",
    "            except Exception as e:\n",
    "                print(e)\n",
    "    if num_files > 0:\n",
    "        ## Output data data to a csv that D3 can handle \n",
    "        cumulative_data = dict()\n",
    "        cumulative_data['Majors']  = dict()\n",
    "        cumulative_data['Years'] = dict()\n",
    "        DATA_HOME = 'processed_data/'\n",
    "        EVENT_TYPE = ''\n",
    "        DATE_TYPE = ''\n",
    "        for file in chemistry_info:\n",
    "            EVENT_TYPE = file.split('/')[3]\n",
    "            DATE_TYPE = file.split('/')[2]\n",
    "\n",
    "            name = file.split('/')[-1].split('.')[0]\n",
    "\n",
    "            ## Get majors information\n",
    "            majors = chemistry_info[file]['Majors'].keys()\n",
    "            majors_values = chemistry_info[file]['Majors'].values()         \n",
    "            years = chemistry_info[file]['Years'].keys()\n",
    "            years_values = chemistry_info[file]['Years'].values()\n",
    "\n",
    "\n",
    "            df = pd.DataFrame({'Major':majors ,\n",
    "                           'Majors Numbers': majors_values})\n",
    "            fullname = EVENT_TYPE +' ' +DATE_TYPE + ' ' +name +'-majors.csv'\n",
    "            #df.to_csv(DATA_HOME+fullname,index=False)\n",
    "\n",
    "            df = pd.DataFrame({\n",
    "                           'Student Years': years,\n",
    "                            'Student Years Numbers': years_values})\n",
    "\n",
    "            fullname = EVENT_TYPE +' ' +DATE_TYPE + ' ' +name +'-years.csv'\n",
    "            #df.to_csv(DATA_HOME+fullname,index=False)\n",
    "\n",
    "        uq_majors = []\n",
    "        uq_years = []\n",
    "        all_Values = dict()\n",
    "        for id_ in sunet_info_chem['Majors'].keys():\n",
    "            uq_majors.append(sunet_info_chem['Majors'][id_])\n",
    "            uq_years.append(sunet_info_chem['Years'][id_])\n",
    "\n",
    "\n",
    "        ## get the value of each of the majors \n",
    "        all_Values['Majors'] = dict()\n",
    "        major_frequencies = CountFrequency(uq_majors)\n",
    "        for major in major_frequencies:\n",
    "            all_Values['Majors'][major] = major_frequencies[major]\n",
    "\n",
    "\n",
    "        ## get the value of each of the majors \n",
    "        all_Values['Years'] = dict()\n",
    "        year_frequencies = CountFrequency(uq_years)\n",
    "        for year in year_frequencies:\n",
    "            all_Values['Years'][year] = year_frequencies[year]                                                    \n",
    "\n",
    "        all_Values['Majors'] = dict(sorted(all_Values['Majors'].items(), key=lambda item: item[0]))\n",
    "        all_Values['Years'] = dict(sorted(all_Values['Years'].items(), key=lambda item: str(item[0])))\n",
    "        majors = all_Values['Majors'].keys()\n",
    "        majors_values = all_Values['Majors'].values()              \n",
    "        years = all_Values['Years'].keys()\n",
    "        years_values = all_Values['Years'].values()\n",
    "\n",
    "        schools_to_volume = dict()\n",
    "        for major in all_Values['Majors']:\n",
    "            if major_types[major] not in schools_to_volume:\n",
    "                schools_to_volume[major_types[major]] = all_Values['Majors'][major]\n",
    "            else:\n",
    "                schools_to_volume[major_types[major]] += all_Values['Majors'][major]\n",
    "        schools_to_volume = dict(sorted(schools_to_volume.items(), key=lambda item: item[0]))\n",
    "        df = pd.DataFrame({'School':list(schools_to_volume.keys()),\n",
    "                           'School_Numbers': list(schools_to_volume.values())})\n",
    "        fullname = EVENT_TYPE +' ' +DATE_TYPE  +'-school.csv'\n",
    "        df.to_csv(DATA_HOME+fullname,index=False)\n",
    "\n",
    "\n",
    "        \n",
    "        df = pd.DataFrame({'Major':majors ,\n",
    "                           'Majors_Numbers': majors_values})\n",
    "        fullname = EVENT_TYPE +' ' +DATE_TYPE  +'-majors.csv'\n",
    "        df.to_csv(DATA_HOME+fullname,index=False)\n",
    "\n",
    "        df = pd.DataFrame({\n",
    "                       'Student_Years': years,\n",
    "                        'Student_Years_Numbers': years_values})\n",
    "\n",
    "        fullname = EVENT_TYPE +' ' +DATE_TYPE +'-years.csv'\n",
    "        df.to_csv(DATA_HOME+fullname,index=False)\n",
    "        return num_visits, len(all_sunetids), all_sunetids\n",
    "    return num_visits, len(all_sunetids), all_sunetids"
   ]
  },
  {
   "cell_type": "code",
   "execution_count": 21,
   "metadata": {},
   "outputs": [],
   "source": [
    "def create_workshop_data(file_type ='Workshops',studio=False, is_undergrad =True):\n",
    "    ## Perform  the analysis and data collection for the Workshop dataset \n",
    "    workshop_info = dict()\n",
    "    sunet_info_workshop = dict()\n",
    "    sunet_info_workshop['Years'] = dict()\n",
    "    sunet_info_workshop['Majors'] = dict()\n",
    "    sunet_info_workshop['Degree'] = dict()\n",
    "    num_files = 0\n",
    "    num_visits = 0\n",
    "    all_sunetids = set()\n",
    "    for file in files:\n",
    "        if file.split('/')[3] == file_type:\n",
    "            num_files+=1\n",
    "            testfile_data = pd.read_excel(file) \n",
    "            testfile_data = testfile_data.groupby(level=0, axis=1).apply(lambda x: x.apply(sjoin, axis=1))\n",
    "            # selecting rows based on condition\n",
    "            if studio:\n",
    "                rslt_df = testfile_data\n",
    "            else:     \n",
    "                if is_undergrad:\n",
    "                    rslt_df = testfile_data[testfile_data['Ticket Type'] == 'Undergraduate Students']\n",
    "                else:\n",
    "                    rslt_df = testfile_data[testfile_data['Ticket Type'] == 'Graduate Students']\n",
    "            try:\n",
    "                #testfile_data = pd.read_excel('Fall Quarter 2020-20210425T224712Z-001/Fall Quarter 2020/Chem Virtual Study Halls/'+file)\n",
    "                session_values = dict()\n",
    "\n",
    "                ## THe things that we want from this are the major frequencies \n",
    "                ## the sunetids, and years \n",
    "                if is_undergrad:\n",
    "                    majors = list(rslt_df['Undergraduate Major'])\n",
    "                else:\n",
    "                    majors = list(rslt_df['Degree Program:'])\n",
    "                    degrees = list(rslt_df['Which degree(s) are you pursuing?'])\n",
    "                sunetids = list(rslt_df['SUID Number'])\n",
    "                years = list(rslt_df['Year at Stanford'])\n",
    "                ## Create a dictionary of sunetids to majors\n",
    "                ids_to_info = dict()\n",
    "                ids_to_info['Majors'] =dict()\n",
    "                ids_to_info['Years'] = dict()\n",
    "                ids_to_info['Degree'] = dict()\n",
    "                ### Make sure that sunetids are the last 8 digits \n",
    "                for index in range(len(sunetids)):\n",
    "                    actual_sunetid = str(sunetids[index])[-7:]\n",
    "                    if str(actual_sunetid).isnumeric():\n",
    "                        all_sunetids.add(actual_sunetid)\n",
    "                        num_visits+=1\n",
    "                        if not isNaN(majors[index]) and majors[index] is not None and majors[index] != '':\n",
    "                            ids_to_info['Majors'][actual_sunetid] = majors[index]\n",
    "                        else:\n",
    "                            ids_to_info['Majors'][actual_sunetid] = 'Undeclared'\n",
    "                        try:\n",
    "                            if str(years[index]) == '5' or str(years[index]) == '5+':\n",
    "                                ids_to_info['Years'][actual_sunetid] = '5+' \n",
    "                            else:\n",
    "                                ids_to_info['Years'][actual_sunetid] = str(int(float(years[index]))).strip()\n",
    "                        except:      \n",
    "                            ids_to_info['Years'][actual_sunetid] = years[index]\n",
    "                        if is_undergrad == False:\n",
    "                            if isNaN(degrees[index]) or degrees[index] == '':\n",
    "                                ids_to_info['Degree'][actual_sunetid] = 'Unknown'\n",
    "                            else:\n",
    "                                ids_to_info['Degree'][actual_sunetid] = degrees[index].split(\"(\")[0]\n",
    "                        \n",
    "                        \n",
    "                sunet_info_workshop['Majors'].update(ids_to_info['Majors'])\n",
    "                sunet_info_workshop['Years'].update(ids_to_info['Years'])\n",
    "                if is_undergrad == False:\n",
    "                    sunet_info_workshop['Degree'].update(ids_to_info['Degree'])\n",
    "                ## Get the unique istances of the majors\n",
    "                uq_majors = []\n",
    "                uq_years = []\n",
    "                uq_degree = []\n",
    "                for id_ in ids_to_info['Majors'].keys() :\n",
    "                    uq_majors.append(ids_to_info['Majors'][id_])\n",
    "                    uq_years.append(ids_to_info['Years'][id_])\n",
    "                    if is_undergrad == False:\n",
    "                        uq_degree.append(ids_to_info['Degree'][id_])\n",
    "                \n",
    "                if is_undergrad == False:\n",
    "                    ## get the value of each of the majors \n",
    "                    session_values['Degree'] = dict()\n",
    "                    degree_frequencies = CountFrequency(uq_degree)\n",
    "                    for degree in degree_frequencies:\n",
    "                        session_values['Degree'][degree] = degree_frequencies[degree]\n",
    "\n",
    "                ## get the value of each of the majors \n",
    "                session_values['Majors'] = dict()\n",
    "                major_frequencies = CountFrequency(uq_majors)\n",
    "                for major in major_frequencies:\n",
    "                    session_values['Majors'][major] = major_frequencies[major]\n",
    "\n",
    "\n",
    "                ## get the value of each of the majors \n",
    "                session_values['Years'] = dict()\n",
    "                year_frequencies = CountFrequency(uq_years)\n",
    "                for year in year_frequencies:\n",
    "                    session_values['Years'][year] = year_frequencies[year]\n",
    "                session_values['meta'] = ids_to_info\n",
    "                workshop_info[file] = session_values\n",
    "\n",
    "            except Exception as e:\n",
    "                print('ERROR')\n",
    "                print(e)\n",
    "    ## Output data data to a csv that D3 can handle \n",
    "    print(num_files)\n",
    "    if num_files >0:\n",
    "        DATA_HOME = 'processed_data/'\n",
    "        EVENT_TYPE = ''\n",
    "        DATE_TYPE = ''\n",
    "        for file in workshop_info:\n",
    "            EVENT_TYPE = file.split('/')[3]\n",
    "            DATE_TYPE = file.split('/')[2]\n",
    "\n",
    "            name = file.split('/')[-1].split('.')[0]\n",
    "\n",
    "            ## Get majors information\n",
    "            majors = workshop_info[file]['Majors'].keys()\n",
    "            majors_values = workshop_info[file]['Majors'].values()               \n",
    "            years = workshop_info[file]['Years'].keys()\n",
    "            years_values = workshop_info[file]['Years'].values()\n",
    "            if is_undergrad == False:\n",
    "                degrees = workshop_info[file]['Degree'].keys()\n",
    "                degree_values = workshop_info[file]['Degree'].values()\n",
    "\n",
    "\n",
    "            df = pd.DataFrame({'Major':majors ,\n",
    "                           'Majors Numbers': majors_values})\n",
    "            fullname = EVENT_TYPE +' ' +DATE_TYPE + ' ' +name +'-majors.csv'\n",
    "            #df.to_csv(DATA_HOME+fullname,index=False)\n",
    "\n",
    "            df = pd.DataFrame({\n",
    "                           'Student Years': years,\n",
    "                            'Student Years Numbers': years_values})\n",
    "\n",
    "            fullname = EVENT_TYPE +' ' +DATE_TYPE + ' ' +name +'-years.csv'\n",
    "            #df.to_csv(DATA_HOME+fullname,index=False)\n",
    "\n",
    "        uq_majors = []\n",
    "        uq_years = []\n",
    "        uq_degree = []\n",
    "        all_Values = dict()\n",
    "        for id_ in sunet_info_workshop['Majors'].keys():\n",
    "            uq_majors.append(sunet_info_workshop['Majors'][id_])\n",
    "            uq_years.append(sunet_info_workshop['Years'][id_])\n",
    "            if is_undergrad == False:\n",
    "                uq_degree.append(sunet_info_workshop['Degree'][id_])\n",
    "        \n",
    "        ## get the value of each of the majors \n",
    "        if is_undergrad == False:\n",
    "            print(uq_degree)\n",
    "            all_Values['Degree'] = dict()\n",
    "            degree_frequencies = CountFrequency(uq_degree)\n",
    "            for degree in degree_frequencies:\n",
    "                all_Values['Degree'][degree] = degree_frequencies[degree]\n",
    "\n",
    "        ## get the value of each of the majors \n",
    "        all_Values['Majors'] = dict()\n",
    "        major_frequencies = CountFrequency(uq_majors)\n",
    "        for major in major_frequencies:\n",
    "            all_Values['Majors'][major] = major_frequencies[major]\n",
    "\n",
    "\n",
    "        ## get the value of each of the majors \n",
    "        all_Values['Years'] = dict()\n",
    "        year_frequencies = CountFrequency(uq_years)\n",
    "        for year in year_frequencies:\n",
    "            all_Values['Years'][year] = year_frequencies[year]     \n",
    "            \n",
    "            \n",
    "        all_Values['Majors'] = dict(sorted(all_Values['Majors'].items(), key=lambda item: item[0]))\n",
    "        all_Values['Years'] = dict(sorted(all_Values['Years'].items(), key=lambda item: str(item[0])))\n",
    "        if is_undergrad == False:\n",
    "            all_Values['Degree'] = dict(sorted(all_Values['Degree'].items(), key=lambda item: str(item[0])))\n",
    "        majors = all_Values['Majors'].keys()\n",
    "        majors_values = all_Values['Majors'].values()              \n",
    "        years = all_Values['Years'].keys()\n",
    "        years_values = all_Values['Years'].values()\n",
    "        if is_undergrad == False:\n",
    "            degree = all_Values['Degree'].keys()\n",
    "            degree_values = all_Values['Degree'].values()\n",
    "\n",
    "        if is_undergrad:\n",
    "            schools_to_volume = dict()\n",
    "            for major in all_Values['Majors']:\n",
    "                if major_types[major] not in schools_to_volume:\n",
    "                    schools_to_volume[major_types[major]] = all_Values['Majors'][major]\n",
    "                else:\n",
    "                    schools_to_volume[major_types[major]] += all_Values['Majors'][major]\n",
    "            schools_to_volume = dict(sorted(schools_to_volume.items(), key=lambda item: item[0]))\n",
    "            df = pd.DataFrame({'School':list(schools_to_volume.keys()),\n",
    "                               'School_Numbers': list(schools_to_volume.values())})\n",
    "            fullname = 'UNDERGRAD--'+EVENT_TYPE +' ' +DATE_TYPE  +'-school.csv'\n",
    "            df.to_csv(DATA_HOME+fullname,index=False)\n",
    "\n",
    "\n",
    "            df = pd.DataFrame({'Major':majors ,\n",
    "                               'Majors_Numbers': majors_values})\n",
    "            fullname = 'UNDERGRAD--'+EVENT_TYPE +' ' +DATE_TYPE  +'-majors.csv'\n",
    "            df.to_csv(DATA_HOME+fullname,index=False)\n",
    "\n",
    "            df = pd.DataFrame({\n",
    "                           'Student_Years': years,\n",
    "                            'Student_Years_Numbers': years_values})\n",
    "\n",
    "            fullname = 'UNDERGRAD--'+ EVENT_TYPE +' ' +DATE_TYPE +'-years.csv'\n",
    "            df.to_csv(DATA_HOME+fullname,index=False)\n",
    "            undergrad_num = len(sunet_info_workshop['Majors'])\n",
    "            return undergrad_num, num_visits, len(all_sunetids), all_sunetids\n",
    "        else:\n",
    "            schools_to_volume = dict()\n",
    "            for major in all_Values['Majors']:\n",
    "                if grad_major_types[major] not in schools_to_volume:\n",
    "                    schools_to_volume[grad_major_types[major]] = all_Values['Majors'][major]\n",
    "                else:\n",
    "                    schools_to_volume[grad_major_types[major]] += all_Values['Majors'][major]\n",
    "            schools_to_volume = dict(sorted(schools_to_volume.items(), key=lambda item: item[0]))\n",
    "            df = pd.DataFrame({'School':list(schools_to_volume.keys()),\n",
    "                               'School_Numbers': list(schools_to_volume.values())})\n",
    "            fullname = 'GRADUATE--'+EVENT_TYPE +' ' +DATE_TYPE  +'-school.csv'\n",
    "            df.to_csv(DATA_HOME+fullname,index=False)\n",
    "            \n",
    "            \n",
    "            df = pd.DataFrame({'Major':majors ,\n",
    "                       'Majors_Numbers': majors_values})\n",
    "            fullname = 'GRADUATE--'+EVENT_TYPE +' ' +DATE_TYPE  +'-majors.csv'\n",
    "            df.to_csv(DATA_HOME+fullname,index=False)\n",
    "            \n",
    "            \n",
    "            df = pd.DataFrame({'Student_Role':degree ,\n",
    "                       'Student_Role_Numbers': degree_values})\n",
    "            fullname = 'GRADUATE--'+EVENT_TYPE +' ' +DATE_TYPE  +'-role.csv'\n",
    "            df.to_csv(DATA_HOME+fullname,index=False)\n",
    "\n",
    "            df = pd.DataFrame({\n",
    "                           'Student_Years': years,\n",
    "                            'Student_Years_Numbers': years_values})\n",
    "\n",
    "            fullname = 'GRADUATE--'+ EVENT_TYPE +' ' +DATE_TYPE +'-years.csv'\n",
    "            df.to_csv(DATA_HOME+fullname,index=False)\n",
    "            grad_num = len(sunet_info_workshop['Majors'])\n",
    "            return grad_num, num_visits, len(all_sunetids), all_sunetids"
   ]
  },
  {
   "cell_type": "code",
   "execution_count": 22,
   "metadata": {},
   "outputs": [],
   "source": [
    "def create_workshop_data(file_type ='Workshops',studio=False, is_undergrad =True):\n",
    "    ## Perform  the analysis and data collection for the Workshop dataset \n",
    "    workshop_info = dict()\n",
    "    sunet_info_workshop = dict()\n",
    "    sunet_info_workshop['Years'] = dict()\n",
    "    sunet_info_workshop['Majors'] = dict()\n",
    "    sunet_info_workshop['Degree'] = dict()\n",
    "    num_files = 0\n",
    "    num_visits = 0\n",
    "    all_sunetids = set()\n",
    "    for file in files:\n",
    "        if file.split('/')[3] == file_type:\n",
    "            num_files+=1\n",
    "            testfile_data = pd.read_excel(file) \n",
    "            testfile_data = testfile_data.groupby(level=0, axis=1).apply(lambda x: x.apply(sjoin, axis=1))\n",
    "            # selecting rows based on condition\n",
    "            if studio:\n",
    "                rslt_df = testfile_data\n",
    "            else:     \n",
    "                if is_undergrad:\n",
    "                    rslt_df = testfile_data[testfile_data['Ticket Type'] == 'Undergraduate Students']\n",
    "                else:\n",
    "                    rslt_df = testfile_data[testfile_data['Ticket Type'] == 'Graduate Students']\n",
    "            try:\n",
    "                #testfile_data = pd.read_excel('Fall Quarter 2020-20210425T224712Z-001/Fall Quarter 2020/Chem Virtual Study Halls/'+file)\n",
    "                session_values = dict()\n",
    "\n",
    "                ## THe things that we want from this are the major frequencies \n",
    "                ## the sunetids, and years \n",
    "                if is_undergrad:\n",
    "                    majors = list(rslt_df['Undergraduate Major'])\n",
    "                else:\n",
    "                    majors = list(rslt_df['Degree Program:'])\n",
    "                    if 'Which degree(s) are you pursuing?' in rslt_df:\n",
    "                        degrees = list(rslt_df['Which degree(s) are you pursuing?'])\n",
    "                    else:\n",
    "                        degrees = list(['Not Available']*len(rslt_df))\n",
    "                sunetids = list(rslt_df['SUID Number'])\n",
    "                years = list(rslt_df['Year at Stanford'])\n",
    "                ## Create a dictionary of sunetids to majors\n",
    "                ids_to_info = dict()\n",
    "                ids_to_info['Majors'] =dict()\n",
    "                ids_to_info['Years'] = dict()\n",
    "                ids_to_info['Degree'] = dict()\n",
    "                ### Make sure that sunetids are the last 8 digits \n",
    "                for index in range(len(sunetids)):\n",
    "                    actual_sunetid = str(sunetids[index])[-7:]\n",
    "                    if str(actual_sunetid).isnumeric():\n",
    "                        all_sunetids.add(actual_sunetid)\n",
    "                        num_visits+=1\n",
    "                        if not isNaN(majors[index]) and majors[index] is not None and  majors[index] != '':\n",
    "                            ids_to_info['Majors'][actual_sunetid] = majors[index]\n",
    "                        else:\n",
    "                            ids_to_info['Majors'][actual_sunetid] = 'Undeclared'\n",
    "                        try:\n",
    "                            if str(years[index]) == '5' or str(years[index]) == '5+':\n",
    "                                ids_to_info['Years'][actual_sunetid] = '5+' \n",
    "                            else:\n",
    "                                ids_to_info['Years'][actual_sunetid] = str(int(float(years[index]))).strip()\n",
    "                        except:      \n",
    "                            ids_to_info['Years'][actual_sunetid] = years[index]\n",
    "                        if is_undergrad == False:\n",
    "                            if isNaN(degrees[index]) or degrees[index] == '':\n",
    "                                ids_to_info['Degree'][actual_sunetid] = 'Unknown'\n",
    "                            else:\n",
    "                                ids_to_info['Degree'][actual_sunetid] = degrees[index].split(\"(\")[0]\n",
    "                        \n",
    "                        \n",
    "                sunet_info_workshop['Majors'].update(ids_to_info['Majors'])\n",
    "                sunet_info_workshop['Years'].update(ids_to_info['Years'])\n",
    "                if is_undergrad == False:\n",
    "                    sunet_info_workshop['Degree'].update(ids_to_info['Degree'])\n",
    "                ## Get the unique istances of the majors\n",
    "                uq_majors = []\n",
    "                uq_years = []\n",
    "                uq_degree = []\n",
    "                for id_ in ids_to_info['Majors'].keys() :\n",
    "                    uq_majors.append(ids_to_info['Majors'][id_])\n",
    "                    uq_years.append(ids_to_info['Years'][id_])\n",
    "                    if is_undergrad == False:\n",
    "                        uq_degree.append(ids_to_info['Degree'][id_])\n",
    "                \n",
    "                if is_undergrad == False:\n",
    "                    ## get the value of each of the majors \n",
    "                    session_values['Degree'] = dict()\n",
    "                    degree_frequencies = CountFrequency(uq_degree)\n",
    "                    for degree in degree_frequencies:\n",
    "                        session_values['Degree'][degree] = degree_frequencies[degree]\n",
    "\n",
    "                ## get the value of each of the majors \n",
    "                session_values['Majors'] = dict()\n",
    "                major_frequencies = CountFrequency(uq_majors)\n",
    "                for major in major_frequencies:\n",
    "                    session_values['Majors'][major] = major_frequencies[major]\n",
    "\n",
    "\n",
    "                ## get the value of each of the majors \n",
    "                session_values['Years'] = dict()\n",
    "                year_frequencies = CountFrequency(uq_years)\n",
    "                for year in year_frequencies:\n",
    "                    session_values['Years'][year] = year_frequencies[year]\n",
    "                session_values['meta'] = ids_to_info\n",
    "                workshop_info[file] = session_values\n",
    "\n",
    "            except Exception as e:\n",
    "                print('ERROR')\n",
    "                print(e)\n",
    "    ## Output data data to a csv that D3 can handle \n",
    "    print(num_files)\n",
    "    if num_files >0:\n",
    "        DATA_HOME = 'processed_data/'\n",
    "        EVENT_TYPE = ''\n",
    "        DATE_TYPE = ''\n",
    "        for file in workshop_info:\n",
    "            EVENT_TYPE = file.split('/')[3]\n",
    "            DATE_TYPE = file.split('/')[2]\n",
    "\n",
    "            name = file.split('/')[-1].split('.')[0]\n",
    "\n",
    "            ## Get majors information\n",
    "            majors = workshop_info[file]['Majors'].keys()\n",
    "            majors_values = workshop_info[file]['Majors'].values()               \n",
    "            years = workshop_info[file]['Years'].keys()\n",
    "            years_values = workshop_info[file]['Years'].values()\n",
    "            if is_undergrad == False:\n",
    "                degrees = workshop_info[file]['Degree'].keys()\n",
    "                degree_values = workshop_info[file]['Degree'].values()\n",
    "\n",
    "\n",
    "            df = pd.DataFrame({'Major':majors ,\n",
    "                           'Majors Numbers': majors_values})\n",
    "            fullname = EVENT_TYPE +' ' +DATE_TYPE + ' ' +name +'-majors.csv'\n",
    "            #df.to_csv(DATA_HOME+fullname,index=False)\n",
    "\n",
    "            df = pd.DataFrame({\n",
    "                           'Student Years': years,\n",
    "                            'Student Years Numbers': years_values})\n",
    "\n",
    "            fullname = EVENT_TYPE +' ' +DATE_TYPE + ' ' +name +'-years.csv'\n",
    "            #df.to_csv(DATA_HOME+fullname,index=False)\n",
    "\n",
    "        uq_majors = []\n",
    "        uq_years = []\n",
    "        uq_degree = []\n",
    "        all_Values = dict()\n",
    "        for id_ in sunet_info_workshop['Majors'].keys():\n",
    "            uq_majors.append(sunet_info_workshop['Majors'][id_])\n",
    "            uq_years.append(sunet_info_workshop['Years'][id_])\n",
    "            if is_undergrad == False:\n",
    "                uq_degree.append(sunet_info_workshop['Degree'][id_])\n",
    "        \n",
    "        ## get the value of each of the majors \n",
    "        if is_undergrad == False:\n",
    "            print(uq_degree)\n",
    "            all_Values['Degree'] = dict()\n",
    "            degree_frequencies = CountFrequency(uq_degree)\n",
    "            for degree in degree_frequencies:\n",
    "                all_Values['Degree'][degree] = degree_frequencies[degree]\n",
    "\n",
    "        ## get the value of each of the majors \n",
    "        all_Values['Majors'] = dict()\n",
    "        major_frequencies = CountFrequency(uq_majors)\n",
    "        for major in major_frequencies:\n",
    "            all_Values['Majors'][major] = major_frequencies[major]\n",
    "\n",
    "\n",
    "        ## get the value of each of the majors \n",
    "        all_Values['Years'] = dict()\n",
    "        year_frequencies = CountFrequency(uq_years)\n",
    "        for year in year_frequencies:\n",
    "            all_Values['Years'][year] = year_frequencies[year]     \n",
    "            \n",
    "            \n",
    "        all_Values['Majors'] = dict(sorted(all_Values['Majors'].items(), key=lambda item: item[0]))\n",
    "        all_Values['Years'] = dict(sorted(all_Values['Years'].items(), key=lambda item: str(item[0])))\n",
    "        if is_undergrad == False:\n",
    "            all_Values['Degree'] = dict(sorted(all_Values['Degree'].items(), key=lambda item: str(item[0])))\n",
    "        majors = all_Values['Majors'].keys()\n",
    "        majors_values = all_Values['Majors'].values()              \n",
    "        years = all_Values['Years'].keys()\n",
    "        years_values = all_Values['Years'].values()\n",
    "        if is_undergrad == False:\n",
    "            degree = all_Values['Degree'].keys()\n",
    "            degree_values = all_Values['Degree'].values()\n",
    "\n",
    "        if is_undergrad:\n",
    "            schools_to_volume = dict()\n",
    "            for major in all_Values['Majors']:\n",
    "                if major_types[major] not in schools_to_volume:\n",
    "                    schools_to_volume[major_types[major]] = all_Values['Majors'][major]\n",
    "                else:\n",
    "                    schools_to_volume[major_types[major]] += all_Values['Majors'][major]\n",
    "            schools_to_volume = dict(sorted(schools_to_volume.items(), key=lambda item: item[0]))\n",
    "            df = pd.DataFrame({'School':list(schools_to_volume.keys()),\n",
    "                               'School_Numbers': list(schools_to_volume.values())})\n",
    "            fullname = 'UNDERGRAD--'+EVENT_TYPE +' ' +DATE_TYPE  +'-school.csv'\n",
    "            df.to_csv(DATA_HOME+fullname,index=False)\n",
    "\n",
    "\n",
    "            df = pd.DataFrame({'Major':majors ,\n",
    "                               'Majors_Numbers': majors_values})\n",
    "            fullname = 'UNDERGRAD--'+EVENT_TYPE +' ' +DATE_TYPE  +'-majors.csv'\n",
    "            df.to_csv(DATA_HOME+fullname,index=False)\n",
    "\n",
    "            df = pd.DataFrame({\n",
    "                           'Student_Years': years,\n",
    "                            'Student_Years_Numbers': years_values})\n",
    "\n",
    "            fullname = 'UNDERGRAD--'+ EVENT_TYPE +' ' +DATE_TYPE +'-years.csv'\n",
    "            df.to_csv(DATA_HOME+fullname,index=False)\n",
    "            undergrad_num = len(sunet_info_workshop['Majors'])\n",
    "            return undergrad_num, num_visits, len(all_sunetids), all_sunetids\n",
    "        else:\n",
    "            schools_to_volume = dict()\n",
    "            for major in all_Values['Majors']:\n",
    "                if grad_major_types[major] not in schools_to_volume:\n",
    "                    schools_to_volume[grad_major_types[major]] = all_Values['Majors'][major]\n",
    "                else:\n",
    "                    schools_to_volume[grad_major_types[major]] += all_Values['Majors'][major]\n",
    "            schools_to_volume = dict(sorted(schools_to_volume.items(), key=lambda item: item[0]))\n",
    "            df = pd.DataFrame({'School':list(schools_to_volume.keys()),\n",
    "                               'School_Numbers': list(schools_to_volume.values())})\n",
    "            fullname = 'GRADUATE--'+EVENT_TYPE +' ' +DATE_TYPE  +'-school.csv'\n",
    "            df.to_csv(DATA_HOME+fullname,index=False)\n",
    "            \n",
    "            \n",
    "            df = pd.DataFrame({'Major':majors ,\n",
    "                       'Majors_Numbers': majors_values})\n",
    "            fullname = 'GRADUATE--'+EVENT_TYPE +' ' +DATE_TYPE  +'-majors.csv'\n",
    "            df.to_csv(DATA_HOME+fullname,index=False)\n",
    "            \n",
    "            \n",
    "            df = pd.DataFrame({'Student_Role':degree ,\n",
    "                       'Student_Role_Numbers': degree_values})\n",
    "            fullname = 'GRADUATE--'+EVENT_TYPE +' ' +DATE_TYPE  +'-role.csv'\n",
    "            df.to_csv(DATA_HOME+fullname,index=False)\n",
    "\n",
    "            df = pd.DataFrame({\n",
    "                           'Student_Years': years,\n",
    "                            'Student_Years_Numbers': years_values})\n",
    "\n",
    "            fullname = 'GRADUATE--'+ EVENT_TYPE +' ' +DATE_TYPE +'-years.csv'\n",
    "            df.to_csv(DATA_HOME+fullname,index=False)\n",
    "            grad_num = len(sunet_info_workshop['Majors'])\n",
    "            return grad_num, num_visits, len(all_sunetids), all_sunetids"
   ]
  },
  {
   "cell_type": "code",
   "execution_count": 23,
   "metadata": {},
   "outputs": [],
   "source": [
    "DATE_TYPE = 'Fall Quarter 2020'"
   ]
  },
  {
   "cell_type": "code",
   "execution_count": 24,
   "metadata": {},
   "outputs": [],
   "source": [
    "import glob\n",
    "ROOT_DIR = 'data/Fall Quarter 2020-20210425T224712Z-001/Fall Quarter 2020/'\n",
    "CURRENT_QUARTER = ''\n",
    "# root_dir needs a trailing slash (i.e. /root/dir/)\n",
    "files = []\n",
    "for filename in glob.iglob(ROOT_DIR + '**/*.xlsx', recursive=True):\n",
    "     files.append(filename)"
   ]
  },
  {
   "cell_type": "code",
   "execution_count": 25,
   "metadata": {},
   "outputs": [],
   "source": [
    "total_visits = []\n",
    "num_unique = []\n",
    "all_sunetids = set()"
   ]
  },
  {
   "cell_type": "code",
   "execution_count": 26,
   "metadata": {},
   "outputs": [
    {
     "name": "stdout",
     "output_type": "stream",
     "text": [
      "Chem Virtual Study Halls\n",
      "data/Fall Quarter 2020-20210425T224712Z-001/Fall Quarter 2020/Chem Virtual Study Halls/2020_09_26_CVSH.xlsx\n",
      "data/Fall Quarter 2020-20210425T224712Z-001/Fall Quarter 2020/Chem Virtual Study Halls/2020_10_03_CVSH.xlsx\n",
      "data/Fall Quarter 2020-20210425T224712Z-001/Fall Quarter 2020/Chem Virtual Study Halls/2020_10_11_CVSH.xlsx\n",
      "data/Fall Quarter 2020-20210425T224712Z-001/Fall Quarter 2020/Chem Virtual Study Halls/2020_10_18_CVSH.xlsx\n",
      "data/Fall Quarter 2020-20210425T224712Z-001/Fall Quarter 2020/Chem Virtual Study Halls/2020_10_25_CVSH.xlsx\n",
      "data/Fall Quarter 2020-20210425T224712Z-001/Fall Quarter 2020/Chem Virtual Study Halls/2020_11_01_CVSH.xlsx\n",
      "data/Fall Quarter 2020-20210425T224712Z-001/Fall Quarter 2020/Chem Virtual Study Halls/2020_11_08_CVSH.xlsx\n",
      "data/Fall Quarter 2020-20210425T224712Z-001/Fall Quarter 2020/Chem Virtual Study Halls/2020_11_15_CVSH.xlsx\n"
     ]
    }
   ],
   "source": [
    "num_visits, num_sunetids, sunetids = create_data(\"Chem Virtual Study Halls\")"
   ]
  },
  {
   "cell_type": "code",
   "execution_count": 27,
   "metadata": {},
   "outputs": [],
   "source": [
    "total_visits.append(num_visits)\n",
    "num_unique.append(num_sunetids)\n",
    "all_sunetids.update(sunetids)"
   ]
  },
  {
   "cell_type": "code",
   "execution_count": 28,
   "metadata": {},
   "outputs": [
    {
     "name": "stdout",
     "output_type": "stream",
     "text": [
      "Math Virtual Study Halls\n",
      "data/Fall Quarter 2020-20210425T224712Z-001/Fall Quarter 2020/Math Virtual Study Halls/2020_10_13_MVSH.xlsx\n",
      "data/Fall Quarter 2020-20210425T224712Z-001/Fall Quarter 2020/Math Virtual Study Halls/2020_10_27_MVSH.xlsx\n",
      "data/Fall Quarter 2020-20210425T224712Z-001/Fall Quarter 2020/Math Virtual Study Halls/2020_11_10_MVSH.xlsx\n",
      "data/Fall Quarter 2020-20210425T224712Z-001/Fall Quarter 2020/Math Virtual Study Halls/2020_11_17_MVSH.xlsx\n"
     ]
    }
   ],
   "source": [
    "num_visits, num_sunetids, sunetids = create_data('Math Virtual Study Halls')"
   ]
  },
  {
   "cell_type": "code",
   "execution_count": 29,
   "metadata": {},
   "outputs": [],
   "source": [
    "total_visits.append(num_visits)\n",
    "num_unique.append(num_sunetids)\n",
    "all_sunetids.update(sunetids)"
   ]
  },
  {
   "cell_type": "code",
   "execution_count": 30,
   "metadata": {},
   "outputs": [
    {
     "name": "stdout",
     "output_type": "stream",
     "text": [
      "11\n"
     ]
    }
   ],
   "source": [
    "undergrad_num, num_visits, num_sunetids, sunetids = create_workshop_data('Workshops',False,True)"
   ]
  },
  {
   "cell_type": "code",
   "execution_count": 31,
   "metadata": {},
   "outputs": [],
   "source": [
    "total_visits.append(num_visits)\n",
    "num_unique.append(num_sunetids)\n",
    "all_sunetids.update(sunetids)"
   ]
  },
  {
   "cell_type": "code",
   "execution_count": 32,
   "metadata": {},
   "outputs": [
    {
     "name": "stdout",
     "output_type": "stream",
     "text": [
      "11\n",
      "['Unknown', 'Unknown', 'PhD', 'Unknown', 'Unknown', 'Unknown', 'PhD', 'Unknown', 'PhD', 'Unknown', 'Unknown', 'Unknown', 'Unknown', 'Unknown', 'Unknown', 'Unknown', 'PhD', 'Unknown', 'PhD', 'PhD', 'PhD', 'Masters ', 'PhD', 'PhD', 'PhD', 'Masters ', 'PhD', 'PhD', 'PhD', 'PhD', 'PhD', 'PhD', 'PhD', 'Masters ', 'Masters ', 'Masters ', 'Masters ', 'PhD', 'Masters ', 'Masters ', 'MD', 'PhD', 'Masters ', 'Masters ', 'Masters ', 'Masters ', 'PhD', 'JD', 'Masters ', 'PhD', 'Masters ', 'Masters ', 'Masters ', 'Masters ', 'PhD', 'Masters ', 'Masters ', 'JD', 'PhD', 'Masters ', 'PhD', 'PhD', 'JD', 'PhD', 'PhD', 'Masters ', 'Masters ', 'Unknown', 'PhD', 'PhD', 'PhD', 'Masters ', 'PhD', 'PhD', 'PhD', 'PhD', 'PhD', 'PhD', 'PhD', 'Masters ', 'PhD', 'PhD', 'Masters ', 'PhD', 'PhD', 'PhD', 'PhD', 'Masters ', 'Masters ', 'PhD', 'PhD', 'Masters ', 'PhD', 'PhD', 'Masters ', 'PhD', 'PhD', 'PhD', 'PhD', 'PhD', 'PhD', 'PhD', 'Unknown', 'PhD', 'PhD']\n"
     ]
    }
   ],
   "source": [
    "grad_num, num_visits, num_sunetids, sunetids = create_workshop_data('Workshops',False,False)"
   ]
  },
  {
   "cell_type": "code",
   "execution_count": 33,
   "metadata": {},
   "outputs": [],
   "source": [
    "total_visits.append(num_visits)\n",
    "num_unique.append(num_sunetids)\n",
    "all_sunetids.update(sunetids)"
   ]
  },
  {
   "cell_type": "code",
   "execution_count": 34,
   "metadata": {},
   "outputs": [],
   "source": [
    "## Create file for overall statistics of the workshop data \n",
    "EVENT_TYPE ='Workshops'\n",
    "\n",
    "df = pd.DataFrame({'Student_Type':['Undergraduate', 'Graduate'] ,\n",
    "                   'Numbers':[undergrad_num,grad_num]})\n",
    "fullname = 'grad_undergrad--'+EVENT_TYPE +' ' +DATE_TYPE  +'.csv'\n",
    "df.to_csv(DATA_HOME+fullname,index=False)\n"
   ]
  },
  {
   "cell_type": "code",
   "execution_count": 35,
   "metadata": {},
   "outputs": [
    {
     "name": "stdout",
     "output_type": "stream",
     "text": [
      "9\n"
     ]
    }
   ],
   "source": [
    "undergrad_num,num_visits, num_sunetids, sunetids = create_workshop_data('Virtual Study Halls',False,True)"
   ]
  },
  {
   "cell_type": "code",
   "execution_count": 36,
   "metadata": {},
   "outputs": [],
   "source": [
    "total_visits.append(num_visits)\n",
    "num_unique.append(num_sunetids)\n",
    "all_sunetids.update(sunetids)"
   ]
  },
  {
   "cell_type": "code",
   "execution_count": 37,
   "metadata": {},
   "outputs": [
    {
     "name": "stdout",
     "output_type": "stream",
     "text": [
      "9\n",
      "['Not Available', 'Not Available', 'Not Available', 'Not Available', 'Not Available', 'Not Available', 'Not Available', 'Not Available', 'Not Available', 'Not Available', 'Not Available', 'Not Available', 'Not Available', 'Not Available', 'Not Available', 'Not Available', 'Not Available', 'Not Available', 'Not Available', 'Not Available', 'Not Available', 'Not Available', 'Not Available', 'Not Available', 'Not Available', 'Not Available', 'Not Available', 'Not Available', 'Not Available', 'Not Available', 'Not Available', 'Not Available', 'Not Available', 'Not Available', 'Not Available', 'Not Available', 'Not Available', 'Not Available', 'Not Available', 'Not Available', 'Not Available', 'Not Available', 'Not Available', 'Not Available', 'Not Available', 'Not Available', 'Not Available', 'Not Available', 'Not Available', 'Not Available', 'Not Available', 'Not Available', 'Not Available', 'Not Available', 'Not Available', 'Not Available', 'Not Available', 'Not Available', 'Not Available', 'Not Available', 'Not Available', 'Not Available', 'Not Available', 'Not Available', 'Not Available', 'Not Available', 'Not Available', 'Not Available', 'Not Available', 'Not Available', 'Not Available', 'Not Available', 'Not Available', 'Not Available', 'Not Available', 'Not Available', 'Not Available', 'Not Available', 'Not Available', 'Not Available', 'Not Available', 'Not Available', 'Not Available', 'Not Available', 'Not Available', 'Not Available', 'Not Available', 'Not Available', 'Not Available', 'Not Available']\n"
     ]
    }
   ],
   "source": [
    "grad_num ,num_visits, num_sunetids, sunetids= create_workshop_data('Virtual Study Halls',False,False)"
   ]
  },
  {
   "cell_type": "code",
   "execution_count": 38,
   "metadata": {},
   "outputs": [],
   "source": [
    "total_visits.append(num_visits)\n",
    "num_unique.append(num_sunetids)\n",
    "all_sunetids.update(sunetids)"
   ]
  },
  {
   "cell_type": "code",
   "execution_count": 39,
   "metadata": {},
   "outputs": [],
   "source": [
    "## Create file for overall statistics of the workshop data \n",
    "EVENT_TYPE ='Virtual Study Halls'\n",
    "DATE_TYPE = 'Winter Quarter 2021'\n",
    "df = pd.DataFrame({'Student_Type':['Undergraduate', 'Graduate'] ,\n",
    "                   'Numbers':[undergrad_num,grad_num]})\n",
    "fullname = 'grad_undergrad--'+EVENT_TYPE +' ' +DATE_TYPE  +'.csv'\n",
    "df.to_csv(DATA_HOME+fullname,index=False)\n"
   ]
  },
  {
   "cell_type": "code",
   "execution_count": 40,
   "metadata": {},
   "outputs": [
    {
     "name": "stdout",
     "output_type": "stream",
     "text": [
      "0\n"
     ]
    },
    {
     "ename": "TypeError",
     "evalue": "cannot unpack non-iterable NoneType object",
     "output_type": "error",
     "traceback": [
      "\u001b[0;31m---------------------------------------------------------------------------\u001b[0m",
      "\u001b[0;31mTypeError\u001b[0m                                 Traceback (most recent call last)",
      "\u001b[0;32m<ipython-input-40-420caa89b841>\u001b[0m in \u001b[0;36m<module>\u001b[0;34m\u001b[0m\n\u001b[0;32m----> 1\u001b[0;31m \u001b[0mgrad_num\u001b[0m\u001b[0;34m,\u001b[0m\u001b[0mnum_visits\u001b[0m\u001b[0;34m,\u001b[0m \u001b[0mnum_sunetids\u001b[0m\u001b[0;34m,\u001b[0m \u001b[0msunetids\u001b[0m  \u001b[0;34m=\u001b[0m \u001b[0mcreate_workshop_data\u001b[0m\u001b[0;34m(\u001b[0m\u001b[0;34m'Studios'\u001b[0m\u001b[0;34m,\u001b[0m\u001b[0;32mTrue\u001b[0m\u001b[0;34m,\u001b[0m \u001b[0;32mFalse\u001b[0m\u001b[0;34m)\u001b[0m\u001b[0;34m\u001b[0m\u001b[0;34m\u001b[0m\u001b[0m\n\u001b[0m",
      "\u001b[0;31mTypeError\u001b[0m: cannot unpack non-iterable NoneType object"
     ]
    }
   ],
   "source": [
    "grad_num,num_visits, num_sunetids, sunetids  = create_workshop_data('Studios',True, False)"
   ]
  },
  {
   "cell_type": "code",
   "execution_count": 41,
   "metadata": {},
   "outputs": [
    {
     "name": "stdout",
     "output_type": "stream",
     "text": [
      "1\n",
      "['PhD', 'PhD', 'PhD', 'PhD', 'PhD', 'Masters ', 'PhD', 'Unknown', 'Unknown', 'PhD', 'PhD', 'PhD', 'PhD', 'PhD', 'PhD', 'PhD', 'PhD', 'PhD', 'PhD', 'PhD', 'Unknown', 'PhD', 'Unknown', 'PhD', 'PhD', 'PhD', 'PhD', 'Masters ', 'PhD', 'Masters ', 'Masters ', 'PhD', 'PhD', 'PhD', 'PhD', 'PhD', 'Unknown', 'Masters ', 'Masters ', 'PhD', 'PhD', 'PhD', 'PhD', 'PhD', 'PhD', 'Unknown', 'PhD', 'PhD', 'PhD', 'PhD', 'PhD', 'PhD', 'PhD', 'PhD', 'PhD', 'PhD', 'PhD', 'PhD', 'PhD', 'PhD', 'PhD', 'PhD', 'Masters ']\n"
     ]
    }
   ],
   "source": [
    "grad_num,num_visits, num_sunetids, sunetids  = create_workshop_data('ENG Grad Studios',True, False)"
   ]
  },
  {
   "cell_type": "code",
   "execution_count": 42,
   "metadata": {},
   "outputs": [],
   "source": [
    "## Create file for overall statistics of the workshop data \n",
    "\n",
    "df = pd.DataFrame({'Student_Type':['Graduate'] ,\n",
    "                   'Numbers':[grad_num]})\n",
    "fullname = 'grad-'+EVENT_TYPE +' ' +DATE_TYPE  +'.csv'\n",
    "df.to_csv(DATA_HOME+fullname,index=False)"
   ]
  },
  {
   "cell_type": "code",
   "execution_count": 43,
   "metadata": {},
   "outputs": [],
   "source": [
    "total_visits.append(num_visits)\n",
    "num_unique.append(num_sunetids)\n",
    "all_sunetids.update(sunetids)"
   ]
  },
  {
   "cell_type": "code",
   "execution_count": 44,
   "metadata": {},
   "outputs": [
    {
     "data": {
      "text/plain": [
       "[409, 112, 98, 118, 60, 196, 63]"
      ]
     },
     "execution_count": 44,
     "metadata": {},
     "output_type": "execute_result"
    }
   ],
   "source": [
    "total_visits"
   ]
  },
  {
   "cell_type": "code",
   "execution_count": 45,
   "metadata": {},
   "outputs": [],
   "source": [
    "df = pd.DataFrame({'Event_Type':['Chem,Math,Under_Work,Grad_Work,Under_Virt,Grad_Virt,Grad_Studio'] ,\n",
    "                   'Numbers':[total_visits]})\n",
    "fullname = 'total_visits-'+EVENT_TYPE +' ' +DATE_TYPE  +'.csv'\n",
    "df.to_csv(DATA_HOME+fullname,index=False)"
   ]
  },
  {
   "cell_type": "code",
   "execution_count": 46,
   "metadata": {},
   "outputs": [],
   "source": [
    "df = pd.DataFrame({'Event_Type':['Chem,Math,Under_Work,Grad_Work,Under_Virt,Grad_Virt,Grad_Studio'] ,\n",
    "                   'Numbers':[num_unique]})\n",
    "fullname = 'unique_visits-' +DATE_TYPE  +'.csv'\n",
    "df.to_csv(DATA_HOME+fullname,index=False)"
   ]
  },
  {
   "cell_type": "code",
   "execution_count": 47,
   "metadata": {},
   "outputs": [],
   "source": [
    "df = pd.DataFrame({'Totals':['Visits','Students'] ,\n",
    "                   'Numbers':[sum(total_visits),len(all_sunetids)]})\n",
    "fullname = 'total_unique_visits-'+DATE_TYPE  +'.csv'\n",
    "df.to_csv(DATA_HOME+fullname,index=False)"
   ]
  },
  {
   "cell_type": "code",
   "execution_count": 48,
   "metadata": {},
   "outputs": [],
   "source": [
    "DATE_TYPE = 'Winter Quarter 2021'\n",
    "import glob\n",
    "ROOT_DIR = 'data/Winter Quarter 2021-20210425T224726Z-001/Winter Quarter 2021/'\n",
    "CURRENT_QUARTER = ''\n",
    "# root_dir needs a trailing slash (i.e. /root/dir/)\n",
    "files = []\n",
    "for filename in glob.iglob(ROOT_DIR + '**/*.xlsx', recursive=True):\n",
    "     files.append(filename)"
   ]
  },
  {
   "cell_type": "code",
   "execution_count": 49,
   "metadata": {},
   "outputs": [],
   "source": [
    "total_visits = []\n",
    "num_unique = []\n",
    "all_sunetids = set()"
   ]
  },
  {
   "cell_type": "code",
   "execution_count": 50,
   "metadata": {},
   "outputs": [
    {
     "name": "stdout",
     "output_type": "stream",
     "text": [
      "Chem 31B Study Hall\n",
      "data/Winter Quarter 2021-20210425T224726Z-001/Winter Quarter 2021/Chem 31B Study Hall/2021_01_20_CHEM.xlsx\n",
      "data/Winter Quarter 2021-20210425T224726Z-001/Winter Quarter 2021/Chem 31B Study Hall/2021_01_24_CHEM.xlsx\n",
      "data/Winter Quarter 2021-20210425T224726Z-001/Winter Quarter 2021/Chem 31B Study Hall/2021_01_31_CHEM.xlsx\n"
     ]
    }
   ],
   "source": [
    "num_visits, num_sunetids, sunetids = create_data()"
   ]
  },
  {
   "cell_type": "code",
   "execution_count": 51,
   "metadata": {},
   "outputs": [],
   "source": [
    "total_visits.append(num_visits)\n",
    "num_unique.append(num_sunetids)\n",
    "all_sunetids.update(sunetids)"
   ]
  },
  {
   "cell_type": "code",
   "execution_count": 52,
   "metadata": {},
   "outputs": [
    {
     "name": "stdout",
     "output_type": "stream",
     "text": [
      "11\n"
     ]
    }
   ],
   "source": [
    "undergrad_num, num_visits, num_sunetids, sunetids = create_workshop_data('Workshops',False,True)"
   ]
  },
  {
   "cell_type": "code",
   "execution_count": 53,
   "metadata": {},
   "outputs": [],
   "source": [
    "total_visits.append(num_visits)\n",
    "num_unique.append(num_sunetids)\n",
    "all_sunetids.update(sunetids)"
   ]
  },
  {
   "cell_type": "code",
   "execution_count": 54,
   "metadata": {},
   "outputs": [
    {
     "name": "stdout",
     "output_type": "stream",
     "text": [
      "11\n",
      "['PhD', 'PhD', 'Masters ', 'PhD', 'PhD', 'PhD', 'PhD', 'PhD', 'PhD', 'PhD', 'Masters ', 'PhD', 'PhD', 'PhD', 'PhD', 'PhD', 'Masters ', 'Masters ', 'Masters ', 'Masters ', 'Masters ', 'Masters ', 'PhD', 'Masters ', 'PhD', 'PhD', 'PhD', 'PhD', 'PhD', 'PhD', 'Masters ', 'Masters ', 'PhD', 'Masters ', 'PhD', 'JD', 'PhD', 'Masters ', 'PhD', 'PhD', 'PhD', 'PhD', 'PhD', 'PhD', 'Masters ', 'PhD', 'PhD', 'PhD', 'PhD', 'PhD', 'PhD', 'Masters ', 'Co-Term', 'PhD', 'PhD', 'PhD', 'PhD', 'PhD', 'PhD', 'Masters ', 'PhD', 'Masters ', 'PhD', 'Masters ', 'PhD', 'Masters ', 'Co-Term', 'Masters ', 'JD', 'PhD', 'PhD', 'PhD', 'PhD', 'Masters ', 'PhD', 'PhD', 'PhD']\n"
     ]
    }
   ],
   "source": [
    "grad_num, num_visits, num_sunetids, sunetids = create_workshop_data('Workshops',False,False)"
   ]
  },
  {
   "cell_type": "code",
   "execution_count": 55,
   "metadata": {},
   "outputs": [],
   "source": [
    "total_visits.append(num_visits)\n",
    "num_unique.append(num_sunetids)\n",
    "all_sunetids.update(sunetids)"
   ]
  },
  {
   "cell_type": "code",
   "execution_count": 56,
   "metadata": {},
   "outputs": [],
   "source": [
    "## Create file for overall statistics of the workshop data \n",
    "EVENT_TYPE ='Workshops'\n",
    "\n",
    "df = pd.DataFrame({'Student_Type':['Undergraduate', 'Graduate'] ,\n",
    "                   'Numbers':[undergrad_num,grad_num]})\n",
    "fullname = 'grad_undergrad--'+EVENT_TYPE +' ' +DATE_TYPE  +'.csv'\n",
    "df.to_csv(DATA_HOME+fullname,index=False)\n"
   ]
  },
  {
   "cell_type": "code",
   "execution_count": 57,
   "metadata": {},
   "outputs": [
    {
     "name": "stdout",
     "output_type": "stream",
     "text": [
      "9\n"
     ]
    }
   ],
   "source": [
    "undergrad_num,num_visits, num_sunetids, sunetids = create_workshop_data('Virtual Study Halls',False,True)"
   ]
  },
  {
   "cell_type": "code",
   "execution_count": 58,
   "metadata": {},
   "outputs": [],
   "source": [
    "total_visits.append(num_visits)\n",
    "num_unique.append(num_sunetids)\n",
    "all_sunetids.update(sunetids)"
   ]
  },
  {
   "cell_type": "code",
   "execution_count": 59,
   "metadata": {},
   "outputs": [
    {
     "name": "stdout",
     "output_type": "stream",
     "text": [
      "9\n",
      "['Unknown', 'Unknown', 'Unknown', 'Unknown', 'Unknown', 'Unknown', 'Unknown', 'Unknown', 'Unknown', 'Unknown', 'Unknown', 'Unknown', 'Unknown', 'Unknown', 'Unknown', 'Unknown', 'Unknown', 'Unknown', 'Unknown', 'Unknown', 'Unknown', 'Unknown', 'Unknown', 'Unknown', 'Unknown', 'Unknown', 'Unknown', 'Unknown', 'Unknown', 'Unknown', 'Unknown']\n"
     ]
    }
   ],
   "source": [
    "grad_num ,num_visits, num_sunetids, sunetids= create_workshop_data('Virtual Study Halls',False,False)"
   ]
  },
  {
   "cell_type": "code",
   "execution_count": 60,
   "metadata": {},
   "outputs": [],
   "source": [
    "total_visits.append(num_visits)\n",
    "num_unique.append(num_sunetids)\n",
    "all_sunetids.update(sunetids)"
   ]
  },
  {
   "cell_type": "code",
   "execution_count": 61,
   "metadata": {},
   "outputs": [],
   "source": [
    "## Create file for overall statistics of the workshop data \n",
    "EVENT_TYPE ='Virtual Study Halls'\n",
    "DATE_TYPE = 'Winter Quarter 2021'\n",
    "df = pd.DataFrame({'Student_Type':['Undergraduate', 'Graduate'] ,\n",
    "                   'Numbers':[undergrad_num,grad_num]})\n",
    "fullname = 'grad_undergrad--'+EVENT_TYPE +' ' +DATE_TYPE  +'.csv'\n",
    "df.to_csv(DATA_HOME+fullname,index=False)\n"
   ]
  },
  {
   "cell_type": "code",
   "execution_count": 62,
   "metadata": {},
   "outputs": [
    {
     "name": "stdout",
     "output_type": "stream",
     "text": [
      "2\n",
      "['PhD', 'PhD', 'Masters ', 'PhD', 'Masters ', 'PhD', 'PhD', 'Masters ', 'Masters ', 'Masters ', 'PhD', 'PhD', 'Co-Term', 'PhD', 'PhD', 'PhD', 'Masters ', 'Unknown', 'PhD', 'PhD', 'PhD', 'PhD', 'Masters ', 'PhD', 'Masters ', 'Masters ', 'PhD', 'PhD', 'Masters ', 'PhD', 'Masters ', 'Masters ', 'Masters ', 'Co-Term', 'Masters ', 'Masters ', 'PhD', 'PhD', 'PhD', 'PhD', 'PhD', 'PhD', 'PhD', 'PhD', 'PhD', 'PhD', 'PhD', 'Masters ', 'Unknown', 'Masters ', 'Masters ']\n"
     ]
    }
   ],
   "source": [
    "grad_num,num_visits, num_sunetids, sunetids  = create_workshop_data('Grad Studios',True, False)"
   ]
  },
  {
   "cell_type": "code",
   "execution_count": 63,
   "metadata": {},
   "outputs": [],
   "source": [
    "total_visits.append(num_visits)\n",
    "num_unique.append(num_sunetids)\n",
    "all_sunetids.update(sunetids)"
   ]
  },
  {
   "cell_type": "code",
   "execution_count": 64,
   "metadata": {},
   "outputs": [
    {
     "name": "stdout",
     "output_type": "stream",
     "text": [
      "2\n",
      "['PhD', 'PhD', 'PhD', 'Masters ', 'PhD', 'PhD', 'PhD', 'PhD', 'Masters ', 'PhD', 'PhD', 'Masters ', 'PhD', 'Masters ', 'PhD', 'PhD', 'PhD', 'PhD', 'PhD', 'PhD', 'PhD', 'PhD', 'PhD', 'PhD', 'PhD', 'PhD', 'PhD', 'PhD', 'PhD', 'PhD', 'PhD', 'PhD', 'PhD', 'PhD', 'PhD', 'PhD', 'PhD', 'PhD', 'PhD', 'PhD', 'PhD', 'PhD', 'PhD', 'PhD', 'PhD', 'PhD', 'Masters ', 'PhD', 'PhD', 'PhD', 'PhD', 'PhD', 'Masters ', 'Co-Term', 'PhD', 'PhD', 'PhD', 'PhD', 'PhD', 'PhD', 'Masters ', 'PhD', 'Masters ', 'PhD', 'Masters ', 'Masters ', 'Masters ', 'PhD', 'PhD', 'Co-Term', 'Masters ', 'PhD', 'PhD', 'PhD', 'PhD', 'PhD', 'PhD', 'Masters ', 'Unknown', 'Masters ', 'PhD', 'PhD', 'PhD', 'PhD', 'PhD', 'PhD', 'PhD', 'Masters ']\n"
     ]
    }
   ],
   "source": [
    "grad_num,num_visits, num_sunetids, sunetids  = create_workshop_data('ENG Grad Studios',True, False)"
   ]
  },
  {
   "cell_type": "code",
   "execution_count": 65,
   "metadata": {},
   "outputs": [],
   "source": [
    "total_visits.append(num_visits)\n",
    "num_unique.append(num_sunetids)\n",
    "all_sunetids.update(sunetids)"
   ]
  },
  {
   "cell_type": "code",
   "execution_count": 66,
   "metadata": {},
   "outputs": [],
   "source": [
    "## Create file for overall statistics of the workshop data \n",
    "\n",
    "df = pd.DataFrame({'Student_Type':['Graduate'] ,\n",
    "                   'Numbers':[grad_num]})\n",
    "fullname = 'grad-'+EVENT_TYPE +' ' +DATE_TYPE  +'.csv'\n",
    "df.to_csv(DATA_HOME+fullname,index=False)"
   ]
  },
  {
   "cell_type": "code",
   "execution_count": 67,
   "metadata": {},
   "outputs": [],
   "source": [
    "df = pd.DataFrame({'Event_Type':['Chem,Under_Work,Grad_Work,Under_Virt,Grad_Virt,Grad_Studio'] ,\n",
    "                   'Numbers':[total_visits]})\n",
    "fullname = 'total_visits-'+EVENT_TYPE +' ' +DATE_TYPE  +'.csv'\n",
    "df.to_csv(DATA_HOME+fullname,index=False)"
   ]
  },
  {
   "cell_type": "code",
   "execution_count": 68,
   "metadata": {},
   "outputs": [],
   "source": [
    "df = pd.DataFrame({'Event_Type':['Chem,Under_Work,Grad_Work,Under_Virt,Grad_Virt,Grad_Studio'] ,\n",
    "                   'Numbers':[num_unique]})\n",
    "fullname = 'unique_visits-' +DATE_TYPE  +'.csv'\n",
    "df.to_csv(DATA_HOME+fullname,index=False)"
   ]
  },
  {
   "cell_type": "code",
   "execution_count": 69,
   "metadata": {},
   "outputs": [],
   "source": [
    "df = pd.DataFrame({'Totals':['Visits','Students'] ,\n",
    "                   'Numbers':[sum(total_visits),len(all_sunetids)]})\n",
    "fullname = 'total_unique_visits-'+DATE_TYPE  +'.csv'\n",
    "df.to_csv(DATA_HOME+fullname,index=False)"
   ]
  },
  {
   "cell_type": "code",
   "execution_count": 70,
   "metadata": {},
   "outputs": [],
   "source": [
    "DATE_TYPE = 'Spring Quarter 2021'\n",
    "import glob\n",
    "ROOT_DIR = 'data/Spring 2021-20210725T213735Z-001/Spring 2021/'\n",
    "CURRENT_QUARTER = ''\n",
    "# root_dir needs a trailing slash (i.e. /root/dir/)\n",
    "files = []\n",
    "for filename in glob.iglob(ROOT_DIR + '**/*.xlsx', recursive=True):\n",
    "     files.append(filename)"
   ]
  },
  {
   "cell_type": "code",
   "execution_count": 71,
   "metadata": {},
   "outputs": [],
   "source": [
    "total_visits = []\n",
    "num_unique = []\n",
    "all_sunetids = set()"
   ]
  },
  {
   "cell_type": "code",
   "execution_count": 72,
   "metadata": {},
   "outputs": [
    {
     "name": "stdout",
     "output_type": "stream",
     "text": [
      "16\n"
     ]
    }
   ],
   "source": [
    "undergrad_num,num_visits, num_sunetids, sunetids = create_workshop_data(\"Study Halls\",False,True ) #create_data(\"Study Halls\")"
   ]
  },
  {
   "cell_type": "code",
   "execution_count": 73,
   "metadata": {},
   "outputs": [],
   "source": [
    "total_visits.append(num_visits)\n",
    "num_unique.append(num_sunetids)\n",
    "all_sunetids.update(sunetids)"
   ]
  },
  {
   "cell_type": "code",
   "execution_count": 74,
   "metadata": {},
   "outputs": [
    {
     "name": "stdout",
     "output_type": "stream",
     "text": [
      "16\n",
      "['Unknown', 'Unknown', 'Unknown', 'Unknown', 'Unknown', 'Unknown', 'Unknown', 'Unknown', 'Unknown', 'Unknown', 'Unknown', 'Unknown', 'Unknown', 'Unknown', 'Unknown', 'Unknown', 'Unknown', 'Unknown', 'Unknown', 'Unknown', 'Unknown', 'Unknown', 'Unknown', 'Unknown', 'Unknown', 'Unknown', 'Unknown', 'Unknown', 'Unknown', 'Unknown', 'Unknown', 'Unknown', 'Unknown', 'Unknown', 'Unknown', 'Unknown', 'Unknown', 'Unknown', 'Unknown', 'Unknown', 'Unknown', 'Unknown', 'Unknown', 'Unknown', 'Unknown', 'Unknown', 'Unknown', 'Unknown', 'Unknown', 'Unknown', 'Unknown', 'Unknown', 'Unknown']\n"
     ]
    }
   ],
   "source": [
    "grad_num,num_visits, num_sunetids, sunetids = create_workshop_data(\"Study Halls\",False,False ) #create_data(\"Study Halls\")"
   ]
  },
  {
   "cell_type": "code",
   "execution_count": 75,
   "metadata": {},
   "outputs": [],
   "source": [
    "total_visits.append(num_visits)\n",
    "num_unique.append(num_sunetids)\n",
    "all_sunetids.update(sunetids)"
   ]
  },
  {
   "cell_type": "code",
   "execution_count": 76,
   "metadata": {},
   "outputs": [
    {
     "name": "stdout",
     "output_type": "stream",
     "text": [
      "3\n"
     ]
    }
   ],
   "source": [
    "undergrad_num, num_visits, num_sunetids, sunetids = create_workshop_data('Workshops',False,True)"
   ]
  },
  {
   "cell_type": "code",
   "execution_count": 77,
   "metadata": {},
   "outputs": [],
   "source": [
    "total_visits.append(num_visits)\n",
    "num_unique.append(num_sunetids)\n",
    "all_sunetids.update(sunetids)"
   ]
  },
  {
   "cell_type": "code",
   "execution_count": 78,
   "metadata": {},
   "outputs": [
    {
     "name": "stdout",
     "output_type": "stream",
     "text": [
      "ERROR\n",
      "'Degree Program:'\n",
      "3\n",
      "['PhD', 'Masters ', 'Masters ', 'PhD', 'PhD', 'PhD | MD', 'PhD', 'Masters ', 'PhD', 'Masters ', 'PhD', 'PhD', 'Masters ', 'PhD', 'PhD', 'PhD', 'Masters ', 'Masters ', 'PhD', 'PhD', 'Masters ', 'PhD', 'Masters ']\n"
     ]
    }
   ],
   "source": [
    "grad_num,num_visits, num_sunetids, sunetids = create_workshop_data('Workshops',False,False)"
   ]
  },
  {
   "cell_type": "code",
   "execution_count": 79,
   "metadata": {},
   "outputs": [],
   "source": [
    "total_visits.append(num_visits)\n",
    "num_unique.append(num_sunetids)\n",
    "all_sunetids.update(sunetids)"
   ]
  },
  {
   "cell_type": "code",
   "execution_count": 80,
   "metadata": {},
   "outputs": [],
   "source": [
    "## Create file for overall statistics of the workshop data \n",
    "EVENT_TYPE ='Workshops'\n",
    "\n",
    "df = pd.DataFrame({'Student_Type':['Undergraduate', 'Graduate'] ,\n",
    "                   'Numbers':[undergrad_num,grad_num]})\n",
    "fullname = 'grad_undergrad--'+EVENT_TYPE +' ' +DATE_TYPE  +'.csv'\n",
    "df.to_csv(DATA_HOME+fullname,index=False)\n"
   ]
  },
  {
   "cell_type": "code",
   "execution_count": 81,
   "metadata": {},
   "outputs": [
    {
     "name": "stdout",
     "output_type": "stream",
     "text": [
      "4\n",
      "['PhD', 'PhD', 'PhD', 'PhD', 'PhD', 'Masters ', 'PhD', 'Masters ', 'PhD', 'Masters ', 'PhD', 'PhD', 'PhD', 'PhD', 'PhD', 'PhD', 'PhD', 'Masters ', 'PhD', 'PhD', 'PhD', 'PhD', 'PhD', 'PhD', 'JD', 'PhD', 'PhD', 'PhD', 'JD', 'PhD', 'PhD', 'PhD', 'PhD', 'PhD', 'PhD', 'PhD', 'PhD', 'PhD', 'PhD', 'PhD', 'PhD', 'PhD', 'PhD', 'PhD', 'PhD', 'PhD', 'PhD', 'PhD', 'PhD', 'PhD', 'PhD', 'PhD | JD', 'PhD', 'PhD', 'PhD', 'PhD', 'Masters ', 'PhD', 'PhD', 'PhD', 'PhD', 'PhD', 'PhD', 'PhD', 'PhD', 'PhD', 'PhD', 'PhD', 'PhD', 'PhD', 'PhD', 'PhD', 'PhD', 'PhD', 'PhD', 'PhD', 'Masters ', 'PhD', 'PhD', 'PhD', 'PhD', 'PhD', 'PhD', 'PhD', 'PhD', 'PhD', 'PhD', 'PhD', 'PhD', 'PhD', 'PhD', 'Masters ', 'Masters ', 'PhD', 'PhD', 'PhD', 'PhD', 'PhD', 'PhD', 'PhD', 'PhD', 'PhD', 'PhD', 'PhD', 'PhD', 'PhD', 'Masters ', 'PhD', 'PhD', 'PhD', 'PhD', 'PhD', 'Masters ', 'PhD', 'PhD', 'Masters ', 'PhD', 'PhD', 'PhD', 'PhD', 'PhD', 'PhD', 'PhD', 'PhD', 'Masters ', 'PhD', 'PhD', 'PhD', 'PhD', 'PhD', 'PhD', 'PhD', 'PhD', 'PhD', 'PhD', 'PhD', 'PhD', 'PhD', 'PhD', 'PhD', 'PhD', 'PhD', 'Masters ', 'PhD', 'Masters ', 'PhD', 'PhD', 'PhD', 'PhD', 'PhD', 'PhD', 'Masters ', 'PhD', 'MD', 'PhD', 'PhD', 'PhD', 'PhD', 'PhD', 'PhD', 'PhD', 'PhD', 'PhD', 'Masters ', 'PhD', 'PhD', 'PhD', 'PhD', 'PhD', 'PhD', 'PhD', 'Masters ', 'PhD', 'Masters ', 'PhD', 'PhD', 'PhD', 'PhD', 'PhD', 'PhD', 'PhD', 'PhD', 'PhD', 'PhD', 'PhD', 'PhD', 'PhD', 'PhD', 'PhD', 'PhD', 'PhD | JD', 'PhD', 'PhD', 'PhD', 'PhD', 'PhD', 'PhD', 'PhD', 'PhD', 'PhD', 'PhD', 'PhD', 'PhD', 'PhD', 'PhD', 'PhD', 'PhD | MD', 'PhD', 'PhD', 'PhD | MD', 'PhD', 'PhD', 'PhD', 'PhD', 'PhD', 'PhD', 'PhD', 'PhD', 'PhD', 'PhD', 'PhD', 'PhD', 'Masters ', 'PhD', 'PhD', 'PhD', 'PhD', 'PhD', 'PhD', 'PhD', 'PhD', 'Masters ']\n"
     ]
    }
   ],
   "source": [
    "undergrad_num,num_visits, num_sunetids, sunetids = create_workshop_data('Grad Studios',True, False)"
   ]
  },
  {
   "cell_type": "code",
   "execution_count": 82,
   "metadata": {},
   "outputs": [],
   "source": [
    "total_visits.append(num_visits)\n",
    "num_unique.append(num_sunetids)\n",
    "all_sunetids.update(sunetids)"
   ]
  },
  {
   "cell_type": "code",
   "execution_count": 83,
   "metadata": {},
   "outputs": [
    {
     "name": "stdout",
     "output_type": "stream",
     "text": [
      "2\n",
      "['Co-Term', 'PhD', 'Masters ', 'PhD', 'PhD', 'PhD', 'Masters ', 'PhD', 'PhD', 'Unknown', 'PhD', 'PhD', 'PhD', 'PhD', 'PhD', 'PhD', 'Masters ', 'Masters ', 'PhD', 'PhD', 'PhD', 'Masters ', 'PhD', 'Masters ', 'Masters ', 'Masters ', 'PhD', 'PhD', 'PhD', 'PhD', 'PhD', 'Co-Term', 'Masters ', 'PhD', 'Masters ', 'PhD', 'PhD', 'Unknown', 'PhD', 'PhD', 'PhD', 'PhD', 'PhD']\n"
     ]
    }
   ],
   "source": [
    "undergrad_num,num_visits, num_sunetids, sunetids = create_workshop_data('ENG Grad Studios',True, False)"
   ]
  },
  {
   "cell_type": "code",
   "execution_count": 84,
   "metadata": {},
   "outputs": [],
   "source": [
    "total_visits.append(num_visits)\n",
    "num_unique.append(num_sunetids)\n",
    "all_sunetids.update(sunetids)"
   ]
  },
  {
   "cell_type": "code",
   "execution_count": 85,
   "metadata": {},
   "outputs": [],
   "source": [
    "## Create file for overall statistics of the workshop data \n",
    "df = pd.DataFrame({'Student_Type':['Graduate'] ,\n",
    "                   'Numbers':[grad_num]})\n",
    "fullname = 'grad-'+EVENT_TYPE +' ' +DATE_TYPE  +'.csv'\n",
    "df.to_csv(DATA_HOME+fullname,index=False)"
   ]
  },
  {
   "cell_type": "code",
   "execution_count": 86,
   "metadata": {},
   "outputs": [],
   "source": [
    "total_visits.append(num_visits)\n",
    "num_unique.append(num_sunetids)\n",
    "all_sunetids.update(sunetids)"
   ]
  },
  {
   "cell_type": "code",
   "execution_count": 87,
   "metadata": {},
   "outputs": [
    {
     "data": {
      "text/plain": [
       "[93, 142, 12, 24, 261, 45, 45]"
      ]
     },
     "execution_count": 87,
     "metadata": {},
     "output_type": "execute_result"
    }
   ],
   "source": [
    "total_visits"
   ]
  },
  {
   "cell_type": "code",
   "execution_count": 88,
   "metadata": {},
   "outputs": [],
   "source": [
    "df = pd.DataFrame({'Event_Type':['Under_Virt,Grad_Virt,Under_Work,Grad_Work,Grad_Studio'] ,\n",
    "                   'Numbers':[total_visits]})\n",
    "fullname = 'total_visits-'+EVENT_TYPE +' ' +DATE_TYPE  +'.csv'\n",
    "df.to_csv(DATA_HOME+fullname,index=False)"
   ]
  },
  {
   "cell_type": "code",
   "execution_count": 89,
   "metadata": {},
   "outputs": [],
   "source": [
    "df = pd.DataFrame({'Event_Type':['Under_Virt,Grad_Virt,Under_Work,Grad_Work,Grad_Studio'],\n",
    "                   'Numbers':[num_unique]})\n",
    "fullname = 'unique_visits-' +DATE_TYPE  +'.csv'\n",
    "df.to_csv(DATA_HOME+fullname,index=False)"
   ]
  },
  {
   "cell_type": "code",
   "execution_count": 90,
   "metadata": {},
   "outputs": [],
   "source": [
    "df = pd.DataFrame({'Totals':['Visits','Students'] ,\n",
    "                   'Numbers':[sum(total_visits),len(all_sunetids)]})\n",
    "fullname = 'total_unique_visits-'+DATE_TYPE  +'.csv'\n",
    "df.to_csv(DATA_HOME+fullname,index=False)"
   ]
  },
  {
   "cell_type": "code",
   "execution_count": null,
   "metadata": {},
   "outputs": [],
   "source": []
  },
  {
   "cell_type": "code",
   "execution_count": null,
   "metadata": {},
   "outputs": [],
   "source": []
  }
 ],
 "metadata": {
  "kernelspec": {
   "display_name": "Python 3",
   "language": "python",
   "name": "python3"
  },
  "language_info": {
   "codemirror_mode": {
    "name": "ipython",
    "version": 3
   },
   "file_extension": ".py",
   "mimetype": "text/x-python",
   "name": "python",
   "nbconvert_exporter": "python",
   "pygments_lexer": "ipython3",
   "version": "3.8.5"
  }
 },
 "nbformat": 4,
 "nbformat_minor": 4
}
